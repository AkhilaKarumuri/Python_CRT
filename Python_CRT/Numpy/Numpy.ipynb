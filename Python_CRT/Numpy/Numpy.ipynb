{
 "cells": [
  {
   "cell_type": "code",
   "execution_count": null,
   "id": "2be9d31c",
   "metadata": {},
   "outputs": [],
   "source": [
    "import numpy as np"
   ]
  },
  {
   "cell_type": "code",
   "execution_count": null,
   "id": "dbdbc47f",
   "metadata": {},
   "outputs": [],
   "source": [
    "#array\n",
    "Arr1=np.array([1,2,3,4,5,6,7,8])\n",
    "print(Arr1)\n",
    "print(type(Arr1))\n",
    "        \n",
    "#creating an array objects of different dimensions\n",
    "Array=np.array(10)\n",
    "print(Array)\n",
    "print(type(Array))\n",
    "print(Array.ndim)\n",
    "Array1=np.array([10,20,30,40,50])\n",
    "print(Array1)\n",
    "print(type(Array1))\n",
    "print(Array1.ndim)\n",
    "Array2=np.array([[10,20],[30,40],[50,60]])\n",
    "print(Array2)\n",
    "print(type(Array2))\n",
    "print(Array2.ndim)\n",
    "Array3=np.array([[[10,20,30],[40,50,60],[70,80,90]]])\n",
    "print(Array3)\n",
    "print(type(Array3))\n",
    "print(Array3.ndim)"
   ]
  },
  {
   "cell_type": "code",
   "execution_count": null,
   "id": "f2b002e6",
   "metadata": {},
   "outputs": [],
   "source": [
    "Array=np.array([[1,2,3],[10,20,30],[100,200,300]])\n",
    "print(Array[0][0])\n",
    "print(Array[0][1])\n",
    "print(Array[0][2])\n",
    "print(Array[1][0])\n",
    "print(Array[1][1])\n",
    "print(Array[1][2])\n",
    "print(Array[2][0])\n",
    "print(Array[2][1])\n",
    "print(Array[2][2])"
   ]
  },
  {
   "cell_type": "markdown",
   "id": "f0ede7ab",
   "metadata": {},
   "source": [
    "To create a matrix with 4 rows and 4 columns using numpy library and give only multiples of 5"
   ]
  },
  {
   "cell_type": "code",
   "execution_count": null,
   "id": "2d726c1e",
   "metadata": {},
   "outputs": [],
   "source": [
    "import numpy as np\n",
    "Array1=np.array(10)\n",
    "print(Array1)"
   ]
  },
  {
   "cell_type": "markdown",
   "id": "ddc959de",
   "metadata": {},
   "source": [
    "Accessing 3D array"
   ]
  },
  {
   "cell_type": "code",
   "execution_count": null,
   "id": "ff0a331c",
   "metadata": {},
   "outputs": [],
   "source": [
    "import numpy as np\n",
    "Arr= np.array([1,2,3,4,5,6,7,8,9,10])"
   ]
  },
  {
   "cell_type": "code",
   "execution_count": null,
   "id": "57285329",
   "metadata": {},
   "outputs": [],
   "source": [
    "arr = np.array([[[1,2,3],[4,5,6]],[[7,8,9],[10,11,12]]])\n",
    "print(arr [0,1,2])\n",
    "print(arr [1,1,2])"
   ]
  },
  {
   "cell_type": "code",
   "execution_count": null,
   "id": "7dc352b4",
   "metadata": {},
   "outputs": [],
   "source": []
  }
 ],
 "metadata": {
  "kernelspec": {
   "display_name": "Python 3",
   "language": "python",
   "name": "python3"
  },
  "language_info": {
   "codemirror_mode": {
    "name": "ipython",
    "version": 3
   },
   "file_extension": ".py",
   "mimetype": "text/x-python",
   "name": "python",
   "nbconvert_exporter": "python",
   "pygments_lexer": "ipython3",
   "version": "3.12.1"
  }
 },
 "nbformat": 4,
 "nbformat_minor": 5
}
